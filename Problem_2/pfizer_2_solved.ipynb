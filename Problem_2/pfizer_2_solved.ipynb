{
 "cells": [
  {
   "cell_type": "markdown",
   "metadata": {
    "id": "-lp7iPB1Pdtf"
   },
   "source": [
    "**Predicting Heath Status**\n",
    "\n",
    "using Prescription Data alone. We now ask you to infer a patient’s health status using only their prescription data. You should think of building a model that would allow you to potentially predict the health status of patients outside the ones provided. It is completely up to you how you decide to accomplish this task. Please feel free to make assumptions to solve this and explain those during the interview"
   ]
  },
  {
   "cell_type": "code",
   "execution_count": 94,
   "metadata": {
    "id": "vtfl-_eRPZTo"
   },
   "outputs": [],
   "source": [
    "#load important libraries\n",
    "\n",
    "import pandas as pd\n",
    "import numpy as np\n",
    "import matplotlib.pyplot as plt\n",
    "import seaborn as sns\n",
    "\n",
    "%matplotlib inline"
   ]
  },
  {
   "cell_type": "code",
   "execution_count": 95,
   "metadata": {
    "id": "j7Vql-fLPZ7p"
   },
   "outputs": [],
   "source": [
    "patient = pd.read_csv(\"/content/Prescriptions.csv\")"
   ]
  },
  {
   "cell_type": "code",
   "execution_count": 96,
   "metadata": {
    "id": "-oBTtGayPZ-4"
   },
   "outputs": [],
   "source": [
    "# Lets make a copy of it\n",
    "\n",
    "patient_status = patient.copy()"
   ]
  },
  {
   "cell_type": "code",
   "execution_count": 97,
   "metadata": {
    "colab": {
     "base_uri": "https://localhost:8080/",
     "height": 302
    },
    "id": "YqnaiwxoPaCT",
    "outputId": "afff0a79-62d9-4a2f-f415-6e119b550937"
   },
   "outputs": [
    {
     "data": {
      "text/html": [
       "\n",
       "  <div id=\"df-8a14c3eb-a8ee-4ea1-b8ee-56ddd8627c89\">\n",
       "    <div class=\"colab-df-container\">\n",
       "      <div>\n",
       "<style scoped>\n",
       "    .dataframe tbody tr th:only-of-type {\n",
       "        vertical-align: middle;\n",
       "    }\n",
       "\n",
       "    .dataframe tbody tr th {\n",
       "        vertical-align: top;\n",
       "    }\n",
       "\n",
       "    .dataframe thead th {\n",
       "        text-align: right;\n",
       "    }\n",
       "</style>\n",
       "<table border=\"1\" class=\"dataframe\">\n",
       "  <thead>\n",
       "    <tr style=\"text-align: right;\">\n",
       "      <th></th>\n",
       "      <th>Patient_id</th>\n",
       "      <th>Prescription_date</th>\n",
       "      <th>drug_category</th>\n",
       "      <th>drug_group</th>\n",
       "      <th>drug_class</th>\n",
       "    </tr>\n",
       "  </thead>\n",
       "  <tbody>\n",
       "    <tr>\n",
       "      <th>0</th>\n",
       "      <td>P23556</td>\n",
       "      <td>2016-05-08</td>\n",
       "      <td>Estrogens</td>\n",
       "      <td>Estrogens</td>\n",
       "      <td>Estrogens</td>\n",
       "    </tr>\n",
       "    <tr>\n",
       "      <th>1</th>\n",
       "      <td>P87538</td>\n",
       "      <td>2016-12-05</td>\n",
       "      <td>Antiparkinson and Related Therapy Agents</td>\n",
       "      <td>Antiparkinson Dopaminergics</td>\n",
       "      <td>Nonergoline Dopamine Receptor Agonists</td>\n",
       "    </tr>\n",
       "    <tr>\n",
       "      <th>2</th>\n",
       "      <td>P49608</td>\n",
       "      <td>2018-01-18</td>\n",
       "      <td>Anticoagulants</td>\n",
       "      <td>Direct Factor Xa Inhibitors</td>\n",
       "      <td>Direct Factor Xa Inhibitors</td>\n",
       "    </tr>\n",
       "    <tr>\n",
       "      <th>3</th>\n",
       "      <td>P19258</td>\n",
       "      <td>2017-08-07</td>\n",
       "      <td>Endocrine and Metabolic Agents - Misc.</td>\n",
       "      <td>Bone Density Regulators</td>\n",
       "      <td>Bisphosphonates</td>\n",
       "    </tr>\n",
       "    <tr>\n",
       "      <th>4</th>\n",
       "      <td>P26638</td>\n",
       "      <td>2018-04-14</td>\n",
       "      <td>Urinary Anti-Infectives</td>\n",
       "      <td>Urinary Anti-Infectives</td>\n",
       "      <td>Urinary Anti-Infectives</td>\n",
       "    </tr>\n",
       "  </tbody>\n",
       "</table>\n",
       "</div>\n",
       "      <button class=\"colab-df-convert\" onclick=\"convertToInteractive('df-8a14c3eb-a8ee-4ea1-b8ee-56ddd8627c89')\"\n",
       "              title=\"Convert this dataframe to an interactive table.\"\n",
       "              style=\"display:none;\">\n",
       "        \n",
       "  <svg xmlns=\"http://www.w3.org/2000/svg\" height=\"24px\"viewBox=\"0 0 24 24\"\n",
       "       width=\"24px\">\n",
       "    <path d=\"M0 0h24v24H0V0z\" fill=\"none\"/>\n",
       "    <path d=\"M18.56 5.44l.94 2.06.94-2.06 2.06-.94-2.06-.94-.94-2.06-.94 2.06-2.06.94zm-11 1L8.5 8.5l.94-2.06 2.06-.94-2.06-.94L8.5 2.5l-.94 2.06-2.06.94zm10 10l.94 2.06.94-2.06 2.06-.94-2.06-.94-.94-2.06-.94 2.06-2.06.94z\"/><path d=\"M17.41 7.96l-1.37-1.37c-.4-.4-.92-.59-1.43-.59-.52 0-1.04.2-1.43.59L10.3 9.45l-7.72 7.72c-.78.78-.78 2.05 0 2.83L4 21.41c.39.39.9.59 1.41.59.51 0 1.02-.2 1.41-.59l7.78-7.78 2.81-2.81c.8-.78.8-2.07 0-2.86zM5.41 20L4 18.59l7.72-7.72 1.47 1.35L5.41 20z\"/>\n",
       "  </svg>\n",
       "      </button>\n",
       "      \n",
       "  <style>\n",
       "    .colab-df-container {\n",
       "      display:flex;\n",
       "      flex-wrap:wrap;\n",
       "      gap: 12px;\n",
       "    }\n",
       "\n",
       "    .colab-df-convert {\n",
       "      background-color: #E8F0FE;\n",
       "      border: none;\n",
       "      border-radius: 50%;\n",
       "      cursor: pointer;\n",
       "      display: none;\n",
       "      fill: #1967D2;\n",
       "      height: 32px;\n",
       "      padding: 0 0 0 0;\n",
       "      width: 32px;\n",
       "    }\n",
       "\n",
       "    .colab-df-convert:hover {\n",
       "      background-color: #E2EBFA;\n",
       "      box-shadow: 0px 1px 2px rgba(60, 64, 67, 0.3), 0px 1px 3px 1px rgba(60, 64, 67, 0.15);\n",
       "      fill: #174EA6;\n",
       "    }\n",
       "\n",
       "    [theme=dark] .colab-df-convert {\n",
       "      background-color: #3B4455;\n",
       "      fill: #D2E3FC;\n",
       "    }\n",
       "\n",
       "    [theme=dark] .colab-df-convert:hover {\n",
       "      background-color: #434B5C;\n",
       "      box-shadow: 0px 1px 3px 1px rgba(0, 0, 0, 0.15);\n",
       "      filter: drop-shadow(0px 1px 2px rgba(0, 0, 0, 0.3));\n",
       "      fill: #FFFFFF;\n",
       "    }\n",
       "  </style>\n",
       "\n",
       "      <script>\n",
       "        const buttonEl =\n",
       "          document.querySelector('#df-8a14c3eb-a8ee-4ea1-b8ee-56ddd8627c89 button.colab-df-convert');\n",
       "        buttonEl.style.display =\n",
       "          google.colab.kernel.accessAllowed ? 'block' : 'none';\n",
       "\n",
       "        async function convertToInteractive(key) {\n",
       "          const element = document.querySelector('#df-8a14c3eb-a8ee-4ea1-b8ee-56ddd8627c89');\n",
       "          const dataTable =\n",
       "            await google.colab.kernel.invokeFunction('convertToInteractive',\n",
       "                                                     [key], {});\n",
       "          if (!dataTable) return;\n",
       "\n",
       "          const docLinkHtml = 'Like what you see? Visit the ' +\n",
       "            '<a target=\"_blank\" href=https://colab.research.google.com/notebooks/data_table.ipynb>data table notebook</a>'\n",
       "            + ' to learn more about interactive tables.';\n",
       "          element.innerHTML = '';\n",
       "          dataTable['output_type'] = 'display_data';\n",
       "          await google.colab.output.renderOutput(dataTable, element);\n",
       "          const docLink = document.createElement('div');\n",
       "          docLink.innerHTML = docLinkHtml;\n",
       "          element.appendChild(docLink);\n",
       "        }\n",
       "      </script>\n",
       "    </div>\n",
       "  </div>\n",
       "  "
      ],
      "text/plain": [
       "  Patient_id  ...                              drug_class\n",
       "0     P23556  ...                               Estrogens\n",
       "1     P87538  ...  Nonergoline Dopamine Receptor Agonists\n",
       "2     P49608  ...             Direct Factor Xa Inhibitors\n",
       "3     P19258  ...                         Bisphosphonates\n",
       "4     P26638  ...                 Urinary Anti-Infectives\n",
       "\n",
       "[5 rows x 5 columns]"
      ]
     },
     "execution_count": 97,
     "metadata": {},
     "output_type": "execute_result"
    }
   ],
   "source": [
    "patient_status.head()"
   ]
  },
  {
   "cell_type": "code",
   "execution_count": 98,
   "metadata": {
    "colab": {
     "base_uri": "https://localhost:8080/"
    },
    "id": "petSbjJ9PaEj",
    "outputId": "f27287b6-9f4f-4ec1-f928-7a86505c7523"
   },
   "outputs": [
    {
     "data": {
      "text/plain": [
       "(1024029, 5)"
      ]
     },
     "execution_count": 98,
     "metadata": {},
     "output_type": "execute_result"
    }
   ],
   "source": [
    "#Lets check the data's shape\n",
    "\n",
    "patient_status.shape"
   ]
  },
  {
   "cell_type": "code",
   "execution_count": 99,
   "metadata": {
    "colab": {
     "base_uri": "https://localhost:8080/"
    },
    "id": "MRx-mprcPaHH",
    "outputId": "64347f47-e9e1-4c20-f5b9-93a3398fcdab"
   },
   "outputs": [
    {
     "data": {
      "text/plain": [
       "(1024029, 5)"
      ]
     },
     "execution_count": 99,
     "metadata": {},
     "output_type": "execute_result"
    }
   ],
   "source": [
    "#Lets check the shape of the data\n",
    "\n",
    "patient_status.shape"
   ]
  },
  {
   "cell_type": "code",
   "execution_count": 100,
   "metadata": {
    "colab": {
     "base_uri": "https://localhost:8080/"
    },
    "id": "AOIxc3a2PaKh",
    "outputId": "1f638d74-7df0-410d-c4a3-bdce62accf0c"
   },
   "outputs": [
    {
     "name": "stdout",
     "output_type": "stream",
     "text": [
      "~>The number of unique value in Patient_id 82546\n",
      "~>The number of unique value in Prescription_date 1639\n",
      "~>The number of unique value in drug_category 89\n",
      "~>The number of unique value in drug_group 415\n",
      "~>The number of unique value in drug_class 604\n"
     ]
    }
   ],
   "source": [
    "# Lets check the unique value in the dataset\n",
    "for i in patient_status.columns:\n",
    "    print(\"~>\" + \"The number of unique value in {} {}\".format(i,len(patient_status[i].unique())))"
   ]
  },
  {
   "cell_type": "markdown",
   "metadata": {
    "id": "eakswrtWQn81"
   },
   "source": [
    "The below plot will be helpful in determining the drug type for specific diseases. I have decided to tackle the given problem by checking out the drug category use for what condition or whether that condition is curable or not. But as the unique value of drug category is kind of big so I will check the one which appears maximum times in the data. And some of the drug category curability I can identify myself like Anti-Depressants, Anti-fungals and so on."
   ]
  },
  {
   "cell_type": "code",
   "execution_count": 100,
   "metadata": {
    "id": "CRjK9VxZi7gH"
   },
   "outputs": [],
   "source": []
  },
  {
   "cell_type": "code",
   "execution_count": 101,
   "metadata": {
    "colab": {
     "base_uri": "https://localhost:8080/",
     "height": 741
    },
    "id": "mF-A3RzIPaMQ",
    "outputId": "29224ce2-cabe-4322-b21b-120b020a786a"
   },
   "outputs": [
    {
     "data": {
      "text/plain": [
       "<function matplotlib.pyplot.grid>"
      ]
     },
     "execution_count": 101,
     "metadata": {},
     "output_type": "execute_result"
    },
    {
     "data": {
      "image/png": "[encoded data removed]",
      "text/plain": [
       "<Figure size 2160x2088 with 1 Axes>"
      ]
     },
     "metadata": {
      "needs_background": "light"
     },
     "output_type": "display_data"
    }
   ],
   "source": [
    "plt.figure(figsize=(30,29))\n",
    "# plt.style.use('seaborn-darkgrid')\n",
    "plt.title(\"Drug Category vs Counts\")\n",
    "# patient_status['drug_category'].value_counts().plot(kind ='pie')\n",
    "sns.barplot(y=patient_status.drug_category.value_counts().index, x=patient_status.drug_category.value_counts())\n",
    "plt.xlabel('Count')\n",
    "plt.ylabel('drug_category')\n",
    "plt.grid"
   ]
  },
  {
   "cell_type": "code",
   "execution_count": 102,
   "metadata": {
    "colab": {
     "base_uri": "https://localhost:8080/"
    },
    "id": "SAZAToXNPaPU",
    "outputId": "b74fc4f4-3af4-4a96-b30a-2b01fc63585b"
   },
   "outputs": [
    {
     "data": {
      "text/plain": [
       "Antidepressants                         92834\n",
       "Antihypertensives                       62022\n",
       "Antihyperlipidemics                     58264\n",
       "Contraceptives                          51732\n",
       "Antidiabetics                           49251\n",
       "                                        ...  \n",
       "Oxytocics                                  13\n",
       "Nutrients                                   6\n",
       "Antiseptics & Disinfectants                 2\n",
       "Allergenic Extracts/Biologicals Misc        2\n",
       "Local ANESTHETICS-Parenteral                1\n",
       "Name: drug_category, Length: 89, dtype: int64"
      ]
     },
     "execution_count": 102,
     "metadata": {},
     "output_type": "execute_result"
    }
   ],
   "source": [
    "# Lets check the value counts of drug category  because the above figure kind of hodge podge\n",
    "patient_status.drug_category.value_counts()"
   ]
  },
  {
   "cell_type": "code",
   "execution_count": 103,
   "metadata": {
    "id": "o8Kh0iwCPaRz"
   },
   "outputs": [],
   "source": [
    "# Lets take out the year from the date column, so that later on we will get to know about the number of visit the patient made.\n",
    "\n",
    "prescription_year =[]\n",
    "for i in range(len(patient_status)):\n",
    "    prescription_year.append((patient_status[\"Prescription_date\"].iloc[i].split('-').pop(0)))  "
   ]
  },
  {
   "cell_type": "code",
   "execution_count": 104,
   "metadata": {
    "id": "wvn30MLgPaUF"
   },
   "outputs": [],
   "source": [
    "patient_status['Prescription_Year'] = pd.DataFrame(prescription_year)\n",
    "\n",
    "# Lets drop Patient_id and Prescription_date column\n",
    "\n",
    "patient_status.drop(['Prescription_date'], axis =1, inplace =True)"
   ]
  },
  {
   "cell_type": "code",
   "execution_count": 105,
   "metadata": {
    "colab": {
     "base_uri": "https://localhost:8080/"
    },
    "id": "dsWcw2DZPaXC",
    "outputId": "4a7d20a4-486c-4e06-b50a-c01055d8e0ae"
   },
   "outputs": [
    {
     "name": "stdout",
     "output_type": "stream",
     "text": [
      "~>The number of unique value in Patient_id 82546\n",
      "~>The number of unique value in drug_category 89\n",
      "~>The number of unique value in drug_group 415\n",
      "~>The number of unique value in drug_class 604\n",
      "~>The number of unique value in Prescription_Year 6\n"
     ]
    }
   ],
   "source": [
    "# Lets check the unique value in the dataset\n",
    "for i in patient_status.columns:\n",
    "    print(\"~>\" + \"The number of unique value in {} {}\".format(i,len(patient_status[i].unique())))"
   ]
  },
  {
   "cell_type": "code",
   "execution_count": 106,
   "metadata": {
    "colab": {
     "base_uri": "https://localhost:8080/",
     "height": 302
    },
    "id": "4W7BRTkRPaaE",
    "outputId": "3bf38386-4170-4ca8-8600-fbdcaf555c86"
   },
   "outputs": [
    {
     "data": {
      "text/html": [
       "\n",
       "  <div id=\"df-3e0f3f06-f4bc-4f05-9491-0ef3d1dc2eea\">\n",
       "    <div class=\"colab-df-container\">\n",
       "      <div>\n",
       "<style scoped>\n",
       "    .dataframe tbody tr th:only-of-type {\n",
       "        vertical-align: middle;\n",
       "    }\n",
       "\n",
       "    .dataframe tbody tr th {\n",
       "        vertical-align: top;\n",
       "    }\n",
       "\n",
       "    .dataframe thead th {\n",
       "        text-align: right;\n",
       "    }\n",
       "</style>\n",
       "<table border=\"1\" class=\"dataframe\">\n",
       "  <thead>\n",
       "    <tr style=\"text-align: right;\">\n",
       "      <th></th>\n",
       "      <th>Patient_id</th>\n",
       "      <th>drug_category</th>\n",
       "      <th>drug_group</th>\n",
       "      <th>drug_class</th>\n",
       "      <th>Prescription_Year</th>\n",
       "    </tr>\n",
       "  </thead>\n",
       "  <tbody>\n",
       "    <tr>\n",
       "      <th>0</th>\n",
       "      <td>P23556</td>\n",
       "      <td>Estrogens</td>\n",
       "      <td>Estrogens</td>\n",
       "      <td>Estrogens</td>\n",
       "      <td>2016</td>\n",
       "    </tr>\n",
       "    <tr>\n",
       "      <th>1</th>\n",
       "      <td>P87538</td>\n",
       "      <td>Antiparkinson and Related Therapy Agents</td>\n",
       "      <td>Antiparkinson Dopaminergics</td>\n",
       "      <td>Nonergoline Dopamine Receptor Agonists</td>\n",
       "      <td>2016</td>\n",
       "    </tr>\n",
       "    <tr>\n",
       "      <th>2</th>\n",
       "      <td>P49608</td>\n",
       "      <td>Anticoagulants</td>\n",
       "      <td>Direct Factor Xa Inhibitors</td>\n",
       "      <td>Direct Factor Xa Inhibitors</td>\n",
       "      <td>2018</td>\n",
       "    </tr>\n",
       "    <tr>\n",
       "      <th>3</th>\n",
       "      <td>P19258</td>\n",
       "      <td>Endocrine and Metabolic Agents - Misc.</td>\n",
       "      <td>Bone Density Regulators</td>\n",
       "      <td>Bisphosphonates</td>\n",
       "      <td>2017</td>\n",
       "    </tr>\n",
       "    <tr>\n",
       "      <th>4</th>\n",
       "      <td>P26638</td>\n",
       "      <td>Urinary Anti-Infectives</td>\n",
       "      <td>Urinary Anti-Infectives</td>\n",
       "      <td>Urinary Anti-Infectives</td>\n",
       "      <td>2018</td>\n",
       "    </tr>\n",
       "  </tbody>\n",
       "</table>\n",
       "</div>\n",
       "      <button class=\"colab-df-convert\" onclick=\"convertToInteractive('df-3e0f3f06-f4bc-4f05-9491-0ef3d1dc2eea')\"\n",
       "              title=\"Convert this dataframe to an interactive table.\"\n",
       "              style=\"display:none;\">\n",
       "        \n",
       "  <svg xmlns=\"http://www.w3.org/2000/svg\" height=\"24px\"viewBox=\"0 0 24 24\"\n",
       "       width=\"24px\">\n",
       "    <path d=\"M0 0h24v24H0V0z\" fill=\"none\"/>\n",
       "    <path d=\"M18.56 5.44l.94 2.06.94-2.06 2.06-.94-2.06-.94-.94-2.06-.94 2.06-2.06.94zm-11 1L8.5 8.5l.94-2.06 2.06-.94-2.06-.94L8.5 2.5l-.94 2.06-2.06.94zm10 10l.94 2.06.94-2.06 2.06-.94-2.06-.94-.94-2.06-.94 2.06-2.06.94z\"/><path d=\"M17.41 7.96l-1.37-1.37c-.4-.4-.92-.59-1.43-.59-.52 0-1.04.2-1.43.59L10.3 9.45l-7.72 7.72c-.78.78-.78 2.05 0 2.83L4 21.41c.39.39.9.59 1.41.59.51 0 1.02-.2 1.41-.59l7.78-7.78 2.81-2.81c.8-.78.8-2.07 0-2.86zM5.41 20L4 18.59l7.72-7.72 1.47 1.35L5.41 20z\"/>\n",
       "  </svg>\n",
       "      </button>\n",
       "      \n",
       "  <style>\n",
       "    .colab-df-container {\n",
       "      display:flex;\n",
       "      flex-wrap:wrap;\n",
       "      gap: 12px;\n",
       "    }\n",
       "\n",
       "    .colab-df-convert {\n",
       "      background-color: #E8F0FE;\n",
       "      border: none;\n",
       "      border-radius: 50%;\n",
       "      cursor: pointer;\n",
       "      display: none;\n",
       "      fill: #1967D2;\n",
       "      height: 32px;\n",
       "      padding: 0 0 0 0;\n",
       "      width: 32px;\n",
       "    }\n",
       "\n",
       "    .colab-df-convert:hover {\n",
       "      background-color: #E2EBFA;\n",
       "      box-shadow: 0px 1px 2px rgba(60, 64, 67, 0.3), 0px 1px 3px 1px rgba(60, 64, 67, 0.15);\n",
       "      fill: #174EA6;\n",
       "    }\n",
       "\n",
       "    [theme=dark] .colab-df-convert {\n",
       "      background-color: #3B4455;\n",
       "      fill: #D2E3FC;\n",
       "    }\n",
       "\n",
       "    [theme=dark] .colab-df-convert:hover {\n",
       "      background-color: #434B5C;\n",
       "      box-shadow: 0px 1px 3px 1px rgba(0, 0, 0, 0.15);\n",
       "      filter: drop-shadow(0px 1px 2px rgba(0, 0, 0, 0.3));\n",
       "      fill: #FFFFFF;\n",
       "    }\n",
       "  </style>\n",
       "\n",
       "      <script>\n",
       "        const buttonEl =\n",
       "          document.querySelector('#df-3e0f3f06-f4bc-4f05-9491-0ef3d1dc2eea button.colab-df-convert');\n",
       "        buttonEl.style.display =\n",
       "          google.colab.kernel.accessAllowed ? 'block' : 'none';\n",
       "\n",
       "        async function convertToInteractive(key) {\n",
       "          const element = document.querySelector('#df-3e0f3f06-f4bc-4f05-9491-0ef3d1dc2eea');\n",
       "          const dataTable =\n",
       "            await google.colab.kernel.invokeFunction('convertToInteractive',\n",
       "                                                     [key], {});\n",
       "          if (!dataTable) return;\n",
       "\n",
       "          const docLinkHtml = 'Like what you see? Visit the ' +\n",
       "            '<a target=\"_blank\" href=https://colab.research.google.com/notebooks/data_table.ipynb>data table notebook</a>'\n",
       "            + ' to learn more about interactive tables.';\n",
       "          element.innerHTML = '';\n",
       "          dataTable['output_type'] = 'display_data';\n",
       "          await google.colab.output.renderOutput(dataTable, element);\n",
       "          const docLink = document.createElement('div');\n",
       "          docLink.innerHTML = docLinkHtml;\n",
       "          element.appendChild(docLink);\n",
       "        }\n",
       "      </script>\n",
       "    </div>\n",
       "  </div>\n",
       "  "
      ],
      "text/plain": [
       "  Patient_id  ... Prescription_Year\n",
       "0     P23556  ...              2016\n",
       "1     P87538  ...              2016\n",
       "2     P49608  ...              2018\n",
       "3     P19258  ...              2017\n",
       "4     P26638  ...              2018\n",
       "\n",
       "[5 rows x 5 columns]"
      ]
     },
     "execution_count": 106,
     "metadata": {},
     "output_type": "execute_result"
    }
   ],
   "source": [
    "patient_status.head()"
   ]
  },
  {
   "cell_type": "code",
   "execution_count": 107,
   "metadata": {
    "colab": {
     "base_uri": "https://localhost:8080/"
    },
    "id": "T_W6gNhyPaco",
    "outputId": "200ecce4-d2cb-4cf2-80b6-75500d4b2d87"
   },
   "outputs": [
    {
     "data": {
      "text/plain": [
       "(1024029, 5)"
      ]
     },
     "execution_count": 107,
     "metadata": {},
     "output_type": "execute_result"
    }
   ],
   "source": [
    "# Rearrange the columns\n",
    "\n",
    "cols = ['Patient_id','Prescription_Year','drug_category','drug_group','drug_class']\n",
    "\n",
    "patient_status = patient_status[cols]\n",
    "patient_status.shape"
   ]
  },
  {
   "cell_type": "code",
   "execution_count": 108,
   "metadata": {
    "colab": {
     "base_uri": "https://localhost:8080/",
     "height": 787
    },
    "id": "L9W0quNRPafo",
    "outputId": "250d0f20-f3ef-42ce-8cab-b7187a99497a"
   },
   "outputs": [
    {
     "data": {
      "text/plain": [
       "<matplotlib.axes._subplots.AxesSubplot at 0x7f6b0f6642d0>"
      ]
     },
     "execution_count": 108,
     "metadata": {},
     "output_type": "execute_result"
    },
    {
     "data": {
      "image/png": "[encoded data removed]",
      "text/plain": [
       "<Figure size 1080x1008 with 1 Axes>"
      ]
     },
     "metadata": {
      "needs_background": "light"
     },
     "output_type": "display_data"
    }
   ],
   "source": [
    "# Lets see the number of patients visits\n",
    "\n",
    "plt.figure(figsize =(15,14))\n",
    "plt.style.use('seaborn-darkgrid')\n",
    "plt.xlabel('Prescription Year')\n",
    "plt.ylabel('Count')\n",
    "# patient_status['Prescription_Year'].value_counts().plot(kind = 'bar')\n",
    "sns.barplot(y=patient_status.Prescription_Year.value_counts().index, x=patient_status.Prescription_Year.value_counts())\n"
   ]
  },
  {
   "cell_type": "markdown",
   "metadata": {
    "id": "pKW9vYo5SiD0"
   },
   "source": [
    "**Output Column**\n",
    "\n",
    "As any patient can consumes more than one medicine, and the medicines that patient consumes may be contain one drug which is used to cure Beta blockers and two other are allergic and cold (I'm not a doctor but its random combination), now the person is cured or not cured, is decided like:\n",
    "\n",
    "\n",
    "For example :- \n",
    "\n",
    "Beta Blockers :- use for heart attack and others as well like heart rhythm. And coronary heart disease cannot be cured. I give that -1.\n",
    "Allergy and cold  is curable therfore Allergy =1 and cold =1.\n",
    "so overall -1 + 1 + 1 = 1 which means cured.\n",
    "\n",
    "*   Simple_Drug (drug category) = 1\n",
    "*   Drug (non-cured disease) = -1\n",
    "*   No information(not check the drug category) = 0\n",
    "\n",
    "For a specific patient, sum of his or her medication combination will tell us his/her health status\n",
    "\n",
    "\n",
    "\n",
    "\n",
    "\n"
   ]
  },
  {
   "cell_type": "code",
   "execution_count": 109,
   "metadata": {
    "id": "dOU98GEdPala"
   },
   "outputs": [],
   "source": [
    "# Treatable and curable are two different thing.\n",
    "# I give Antivirals -1, as I have gone through the data for antivirals\n",
    "# mannualy I found out that corresponding drug class is Herpes and influenza\n",
    "# which are not curable, and we are aware of that viral diseases are treatable \n",
    "# not curable\n",
    "\n",
    "Health_Status =[]\n",
    "for i in range(len(patient_status)):\n",
    "  if('Vaccines' in patient_status.drug_category.iloc[i].split(',')):\n",
    "    Health_Status.append(1)\n",
    "  \n",
    "  elif('Antidepressants' in patient_status.drug_category.iloc[i].split(',')):\n",
    "    Health_Status.append(1)\n",
    "  \n",
    "  elif('Contraceptives' in patient_status.drug_category.iloc[i].split(',')):\n",
    "    Health_Status.append(1)\n",
    "  \n",
    "  elif('Antidiabetics' in patient_status.drug_category.iloc[i].split(',')):\n",
    "    Health_Status.append(-1)\n",
    "  \n",
    "  elif('Vitamins' in patient_status.drug_category.iloc[i].split(',')):\n",
    "    Health_Status.append(1)\n",
    "  \n",
    "  elif('Antifungals' in patient_status.drug_category.iloc[i].split(',')):\n",
    "    Health_Status.append(1)\n",
    "  \n",
    "  elif('Penicillins' in patient_status.drug_category.iloc[i].split(',')):\n",
    "    Health_Status.append(1)\n",
    "  \n",
    "  elif('Antianxiety Drugs' in patient_status.drug_category.iloc[i].split(',')):\n",
    "    Health_Status.append(1)\n",
    "  \n",
    "  elif('Cough/Cold/Allergy' in patient_status.drug_category.iloc[i].split(',')):\n",
    "    Health_Status.append(1)\n",
    "  \n",
    "  elif('Analgesics - Opioid' in patient_status.drug_category.iloc[i].split(',')):\n",
    "    Health_Status.append(1)\n",
    "  \n",
    "  elif('Nasal Agents - Systemic and Topica' in patient_status.drug_category.iloc[i].split(',')):\n",
    "    Health_Status.append(1)\n",
    "  \n",
    "  elif('Antiparkinson and Related Therapy Agents' in patient_status.drug_category.iloc[i].split(',')):\n",
    "    Health_Status.append(-1)\n",
    "    # Parkinson is not curable\n",
    "  \n",
    "  elif('Minerals & Electrolytes' in patient_status.drug_category.iloc[i].split(',')):\n",
    "    Health_Status.append(1)\n",
    "  \n",
    "  elif('Laxatives' in patient_status.drug_category.iloc[i].split(',')):\n",
    "    Health_Status.append(1)\n",
    "  \n",
    "  elif('Antihypertensive' in patient_status.drug_category.iloc[i].split(',')):\n",
    "    Health_Status.append(-1)\n",
    "    #hypertension is not curable\n",
    "  \n",
    "  elif('Estrogen' in patient_status.drug_category.iloc[i].split(',')):\n",
    "    Health_Status.append(1)\n",
    "  \n",
    "  elif('Thyroid Agents' in patient_status.drug_category.iloc[i].split(',')):\n",
    "    Health_Status.append(1)\n",
    "  \n",
    "  elif('Antihistamines' in patient_status.drug_category.iloc[i].split(',')):\n",
    "    Health_Status.append(-1)\n",
    "    # Antihistamin :- hay fever or allergy not curable\n",
    "  \n",
    "  elif('Adhd/Anti-narcolepsy/Anti-obesity/Anorexiants' in patient_status.drug_category.iloc[i].split(',')):\n",
    "    Health_Status.append(-1)\n",
    "    # Narcolepsy is not curable\n",
    "  \n",
    "  elif('Beta Blockers' in patient_status.drug_category.iloc[i].split(',')):\n",
    "    Health_Status.append(-1)\n",
    "    # Beta-blockers :- cornary diseases which are not curable\n",
    "  \n",
    "  elif('Antimalarials' in patient_status.drug_category.iloc[i].split(',')):\n",
    "    Health_Status.append(1)\n",
    "  \n",
    "  elif('Antianginal Agents' in patient_status.drug_category.iloc[i].split(',')):\n",
    "    Health_Status.append(-1)\n",
    "    #Aginal is not curable\n",
    "  \n",
    "  elif('Dermatologicals' in patient_status.drug_category.iloc[i].split(',')):\n",
    "    Health_Status.append(-1)\n",
    "    # Most often dermatological diseases is not curable they are treatable\n",
    "  \n",
    "  elif('Diuretics' in patient_status.drug_category.iloc[i].split(',')):\n",
    "    Health_Status.append(1)\n",
    "  \n",
    "  elif('Corticosteroids' in patient_status.drug_category.iloc[i].split(',')):\n",
    "    Health_Status.append(1)\n",
    "  \n",
    "  elif('Multivitamins' in patient_status.drug_category.iloc[i].split(',')):\n",
    "    Health_Status.append(1)\n",
    "  \n",
    "  elif('Tetracyline' in patient_status.drug_category.iloc[i].split(',')):\n",
    "    Health_Status.append(1)\n",
    "  \n",
    "  elif('Gastrointestinal Agents - Misc.' in patient_status.drug_category.iloc[i].split(',')):\n",
    "    Health_Status.append(1)\n",
    "  \n",
    "  elif('Antihyperlipidemics' in patient_status.drug_category.iloc[i].split(',')):\n",
    "    Health_Status.append(1)\n",
    "  \n",
    "  elif('Anticonvulsants' in patient_status.drug_category.iloc[i].split(',')):\n",
    "    Health_Status.append(-1)\n",
    "  \n",
    "  elif('Fluoroquinolones' in patient_status.drug_category.iloc[i].split(',')):\n",
    "    Health_Status.append(1)\n",
    "  \n",
    "  elif('Antiasthmatic and Bronchodilator Agents' in patient_status.drug_category.iloc[i].split(',')):\n",
    "    Health_Status.append(-1)\n",
    "  \n",
    "  elif('Musculoskeletal Therapy Agents' in patient_status.drug_category.iloc[i].split(',')):\n",
    "    Health_Status.append(1)\n",
    "  \n",
    "  elif('Antivirals' in patient_status.drug_category.iloc[i].split(',')):\n",
    "    Health_Status.append(-1)\n",
    "  \n",
    "  elif('Analgesics - Anti-Infammatory' in patient_status.drug_category.iloc[i].split(',')):\n",
    "    Health_Status.append(1)\n",
    "  \n",
    "  elif('Anticogulants' in patient_status.drug_category.iloc[i].split(',')):\n",
    "    Health_Status.append(1)\n",
    "  \n",
    "  elif('Macrolides' in patient_status.drug_category.iloc[i].split(',')):\n",
    "    Health_Status.append(1)\n",
    "  \n",
    "  elif('Endocrine and Metabolic Agents - Misc.' in patient_status.drug_category.iloc[i].split(',')):\n",
    "    Health_Status.append(1)\n",
    "  \n",
    "  elif('Hypnotics/Sedatives/Sleep Disorder Agents' in patient_status.drug_category.iloc[i].split(',')):\n",
    "    Health_Status.append(1)\n",
    "  \n",
    "  elif('Urinary Antispasmodics' in patient_status.drug_category.iloc[i].split(',')):\n",
    "    Health_Status.append(-1)\n",
    "    # OAB i.e. Over Active Bladder is not curable\n",
    "  \n",
    "  elif('Urinary Anti-Infectives' in patient_status.drug_category.iloc[i].split(',')):\n",
    "    Health_Status.append(1)\n",
    "  \n",
    "  else:\n",
    "    Health_Status.append(0)\n",
    "  "
   ]
  },
  {
   "cell_type": "code",
   "execution_count": 110,
   "metadata": {
    "id": "ZnFkELfrPaoH"
   },
   "outputs": [],
   "source": [
    "patient_status['Health_Status'] = pd.DataFrame(Health_Status)\n",
    "\n",
    "patient_group = patient_status[['Patient_id','Health_Status']]\n",
    "\n",
    "patient_group_1 = patient_group.groupby(['Patient_id']).sum().reset_index()\n",
    "\n",
    "health =[]\n",
    "\n",
    "for i in range(len(patient_group_1)):\n",
    "    if (patient_group_1.Health_Status.iloc[i] > 0):\n",
    "    health.append(1)    # 1 -- cured\n",
    "    elif (patient_group_1.Health_Status.iloc[i] < 0):\n",
    "    health.append(2)    # 2 not cured\n",
    "    else:\n",
    "    health.append(0)    # 0 not decided; suggestion to see the drug "
   ]
  },
  {
   "cell_type": "code",
   "execution_count": 111,
   "metadata": {
    "colab": {
     "base_uri": "https://localhost:8080/",
     "height": 206
    },
    "id": "Szpv67SrParA",
    "outputId": "853ae3e2-c168-4ce5-bac7-6b53478baf91"
   },
   "outputs": [
    {
     "data": {
      "text/html": [
       "\n",
       "  <div id=\"df-86aee2ff-2612-4e2b-b06f-6ea8ee589dac\">\n",
       "    <div class=\"colab-df-container\">\n",
       "      <div>\n",
       "<style scoped>\n",
       "    .dataframe tbody tr th:only-of-type {\n",
       "        vertical-align: middle;\n",
       "    }\n",
       "\n",
       "    .dataframe tbody tr th {\n",
       "        vertical-align: top;\n",
       "    }\n",
       "\n",
       "    .dataframe thead th {\n",
       "        text-align: right;\n",
       "    }\n",
       "</style>\n",
       "<table border=\"1\" class=\"dataframe\">\n",
       "  <thead>\n",
       "    <tr style=\"text-align: right;\">\n",
       "      <th></th>\n",
       "      <th>Patient_id</th>\n",
       "      <th>Health_Status</th>\n",
       "      <th>Health</th>\n",
       "    </tr>\n",
       "  </thead>\n",
       "  <tbody>\n",
       "    <tr>\n",
       "      <th>0</th>\n",
       "      <td>P00001</td>\n",
       "      <td>-1</td>\n",
       "      <td>2</td>\n",
       "    </tr>\n",
       "    <tr>\n",
       "      <th>1</th>\n",
       "      <td>P00002</td>\n",
       "      <td>2</td>\n",
       "      <td>1</td>\n",
       "    </tr>\n",
       "    <tr>\n",
       "      <th>2</th>\n",
       "      <td>P00003</td>\n",
       "      <td>1</td>\n",
       "      <td>1</td>\n",
       "    </tr>\n",
       "    <tr>\n",
       "      <th>3</th>\n",
       "      <td>P00004</td>\n",
       "      <td>2</td>\n",
       "      <td>1</td>\n",
       "    </tr>\n",
       "    <tr>\n",
       "      <th>4</th>\n",
       "      <td>P00005</td>\n",
       "      <td>-2</td>\n",
       "      <td>2</td>\n",
       "    </tr>\n",
       "  </tbody>\n",
       "</table>\n",
       "</div>\n",
       "      <button class=\"colab-df-convert\" onclick=\"convertToInteractive('df-86aee2ff-2612-4e2b-b06f-6ea8ee589dac')\"\n",
       "              title=\"Convert this dataframe to an interactive table.\"\n",
       "              style=\"display:none;\">\n",
       "        \n",
       "  <svg xmlns=\"http://www.w3.org/2000/svg\" height=\"24px\"viewBox=\"0 0 24 24\"\n",
       "       width=\"24px\">\n",
       "    <path d=\"M0 0h24v24H0V0z\" fill=\"none\"/>\n",
       "    <path d=\"M18.56 5.44l.94 2.06.94-2.06 2.06-.94-2.06-.94-.94-2.06-.94 2.06-2.06.94zm-11 1L8.5 8.5l.94-2.06 2.06-.94-2.06-.94L8.5 2.5l-.94 2.06-2.06.94zm10 10l.94 2.06.94-2.06 2.06-.94-2.06-.94-.94-2.06-.94 2.06-2.06.94z\"/><path d=\"M17.41 7.96l-1.37-1.37c-.4-.4-.92-.59-1.43-.59-.52 0-1.04.2-1.43.59L10.3 9.45l-7.72 7.72c-.78.78-.78 2.05 0 2.83L4 21.41c.39.39.9.59 1.41.59.51 0 1.02-.2 1.41-.59l7.78-7.78 2.81-2.81c.8-.78.8-2.07 0-2.86zM5.41 20L4 18.59l7.72-7.72 1.47 1.35L5.41 20z\"/>\n",
       "  </svg>\n",
       "      </button>\n",
       "      \n",
       "  <style>\n",
       "    .colab-df-container {\n",
       "      display:flex;\n",
       "      flex-wrap:wrap;\n",
       "      gap: 12px;\n",
       "    }\n",
       "\n",
       "    .colab-df-convert {\n",
       "      background-color: #E8F0FE;\n",
       "      border: none;\n",
       "      border-radius: 50%;\n",
       "      cursor: pointer;\n",
       "      display: none;\n",
       "      fill: #1967D2;\n",
       "      height: 32px;\n",
       "      padding: 0 0 0 0;\n",
       "      width: 32px;\n",
       "    }\n",
       "\n",
       "    .colab-df-convert:hover {\n",
       "      background-color: #E2EBFA;\n",
       "      box-shadow: 0px 1px 2px rgba(60, 64, 67, 0.3), 0px 1px 3px 1px rgba(60, 64, 67, 0.15);\n",
       "      fill: #174EA6;\n",
       "    }\n",
       "\n",
       "    [theme=dark] .colab-df-convert {\n",
       "      background-color: #3B4455;\n",
       "      fill: #D2E3FC;\n",
       "    }\n",
       "\n",
       "    [theme=dark] .colab-df-convert:hover {\n",
       "      background-color: #434B5C;\n",
       "      box-shadow: 0px 1px 3px 1px rgba(0, 0, 0, 0.15);\n",
       "      filter: drop-shadow(0px 1px 2px rgba(0, 0, 0, 0.3));\n",
       "      fill: #FFFFFF;\n",
       "    }\n",
       "  </style>\n",
       "\n",
       "      <script>\n",
       "        const buttonEl =\n",
       "          document.querySelector('#df-86aee2ff-2612-4e2b-b06f-6ea8ee589dac button.colab-df-convert');\n",
       "        buttonEl.style.display =\n",
       "          google.colab.kernel.accessAllowed ? 'block' : 'none';\n",
       "\n",
       "        async function convertToInteractive(key) {\n",
       "          const element = document.querySelector('#df-86aee2ff-2612-4e2b-b06f-6ea8ee589dac');\n",
       "          const dataTable =\n",
       "            await google.colab.kernel.invokeFunction('convertToInteractive',\n",
       "                                                     [key], {});\n",
       "          if (!dataTable) return;\n",
       "\n",
       "          const docLinkHtml = 'Like what you see? Visit the ' +\n",
       "            '<a target=\"_blank\" href=https://colab.research.google.com/notebooks/data_table.ipynb>data table notebook</a>'\n",
       "            + ' to learn more about interactive tables.';\n",
       "          element.innerHTML = '';\n",
       "          dataTable['output_type'] = 'display_data';\n",
       "          await google.colab.output.renderOutput(dataTable, element);\n",
       "          const docLink = document.createElement('div');\n",
       "          docLink.innerHTML = docLinkHtml;\n",
       "          element.appendChild(docLink);\n",
       "        }\n",
       "      </script>\n",
       "    </div>\n",
       "  </div>\n",
       "  "
      ],
      "text/plain": [
       "  Patient_id  Health_Status  Health\n",
       "0     P00001             -1       2\n",
       "1     P00002              2       1\n",
       "2     P00003              1       1\n",
       "3     P00004              2       1\n",
       "4     P00005             -2       2"
      ]
     },
     "execution_count": 111,
     "metadata": {},
     "output_type": "execute_result"
    }
   ],
   "source": [
    "patient_group_1['Health'] = pd.DataFrame(health)\n",
    "patient_group_1.head()"
   ]
  },
  {
   "cell_type": "code",
   "execution_count": 112,
   "metadata": {
    "colab": {
     "base_uri": "https://localhost:8080/"
    },
    "id": "B6FNWWzyPatt",
    "outputId": "577be285-53b7-4ee2-c84c-0c05f443187c"
   },
   "outputs": [
    {
     "data": {
      "text/plain": [
       "1    52043\n",
       "2    18855\n",
       "0    11648\n",
       "Name: Health, dtype: int64"
      ]
     },
     "execution_count": 112,
     "metadata": {},
     "output_type": "execute_result"
    }
   ],
   "source": [
    "patient_group_1.Health.value_counts()"
   ]
  },
  {
   "cell_type": "code",
   "execution_count": 113,
   "metadata": {
    "id": "H_n9AygsPawW"
   },
   "outputs": [],
   "source": [
    "# Lets perform groupby operation \n",
    "\n",
    "patient_details = patient_status.groupby([\"Patient_id\"]).agg(Visits=('Prescription_Year',lambda x:\",\".join(x)),Drugs =('drug_category',lambda x:\",\".join(x))).reset_index()"
   ]
  },
  {
   "cell_type": "code",
   "execution_count": 114,
   "metadata": {
    "colab": {
     "base_uri": "https://localhost:8080/",
     "height": 206
    },
    "id": "PDfUbRM8Pay-",
    "outputId": "ea7aabdd-f186-4c10-b164-8259e8ee969c"
   },
   "outputs": [
    {
     "data": {
      "text/html": [
       "\n",
       "  <div id=\"df-d72b01af-3552-42df-9bbc-c7bfa4b6c29d\">\n",
       "    <div class=\"colab-df-container\">\n",
       "      <div>\n",
       "<style scoped>\n",
       "    .dataframe tbody tr th:only-of-type {\n",
       "        vertical-align: middle;\n",
       "    }\n",
       "\n",
       "    .dataframe tbody tr th {\n",
       "        vertical-align: top;\n",
       "    }\n",
       "\n",
       "    .dataframe thead th {\n",
       "        text-align: right;\n",
       "    }\n",
       "</style>\n",
       "<table border=\"1\" class=\"dataframe\">\n",
       "  <thead>\n",
       "    <tr style=\"text-align: right;\">\n",
       "      <th></th>\n",
       "      <th>Patient_id</th>\n",
       "      <th>Visits</th>\n",
       "      <th>Drugs</th>\n",
       "      <th>Health</th>\n",
       "    </tr>\n",
       "  </thead>\n",
       "  <tbody>\n",
       "    <tr>\n",
       "      <th>0</th>\n",
       "      <td>P00001</td>\n",
       "      <td>2016</td>\n",
       "      <td>Antivirals</td>\n",
       "      <td>2</td>\n",
       "    </tr>\n",
       "    <tr>\n",
       "      <th>1</th>\n",
       "      <td>P00002</td>\n",
       "      <td>2015,2015,2015,2015</td>\n",
       "      <td>Vaccines,Vaccines,Tetracyclines,Analgesics - A...</td>\n",
       "      <td>1</td>\n",
       "    </tr>\n",
       "    <tr>\n",
       "      <th>2</th>\n",
       "      <td>P00003</td>\n",
       "      <td>2017</td>\n",
       "      <td>Corticosteroids</td>\n",
       "      <td>1</td>\n",
       "    </tr>\n",
       "    <tr>\n",
       "      <th>3</th>\n",
       "      <td>P00004</td>\n",
       "      <td>2018,2018</td>\n",
       "      <td>Vaccines,Vaccines</td>\n",
       "      <td>1</td>\n",
       "    </tr>\n",
       "    <tr>\n",
       "      <th>4</th>\n",
       "      <td>P00005</td>\n",
       "      <td>2018,2018,2018</td>\n",
       "      <td>Anticonvulsants,Anticonvulsants,Migraine Products</td>\n",
       "      <td>2</td>\n",
       "    </tr>\n",
       "  </tbody>\n",
       "</table>\n",
       "</div>\n",
       "      <button class=\"colab-df-convert\" onclick=\"convertToInteractive('df-d72b01af-3552-42df-9bbc-c7bfa4b6c29d')\"\n",
       "              title=\"Convert this dataframe to an interactive table.\"\n",
       "              style=\"display:none;\">\n",
       "        \n",
       "  <svg xmlns=\"http://www.w3.org/2000/svg\" height=\"24px\"viewBox=\"0 0 24 24\"\n",
       "       width=\"24px\">\n",
       "    <path d=\"M0 0h24v24H0V0z\" fill=\"none\"/>\n",
       "    <path d=\"M18.56 5.44l.94 2.06.94-2.06 2.06-.94-2.06-.94-.94-2.06-.94 2.06-2.06.94zm-11 1L8.5 8.5l.94-2.06 2.06-.94-2.06-.94L8.5 2.5l-.94 2.06-2.06.94zm10 10l.94 2.06.94-2.06 2.06-.94-2.06-.94-.94-2.06-.94 2.06-2.06.94z\"/><path d=\"M17.41 7.96l-1.37-1.37c-.4-.4-.92-.59-1.43-.59-.52 0-1.04.2-1.43.59L10.3 9.45l-7.72 7.72c-.78.78-.78 2.05 0 2.83L4 21.41c.39.39.9.59 1.41.59.51 0 1.02-.2 1.41-.59l7.78-7.78 2.81-2.81c.8-.78.8-2.07 0-2.86zM5.41 20L4 18.59l7.72-7.72 1.47 1.35L5.41 20z\"/>\n",
       "  </svg>\n",
       "      </button>\n",
       "      \n",
       "  <style>\n",
       "    .colab-df-container {\n",
       "      display:flex;\n",
       "      flex-wrap:wrap;\n",
       "      gap: 12px;\n",
       "    }\n",
       "\n",
       "    .colab-df-convert {\n",
       "      background-color: #E8F0FE;\n",
       "      border: none;\n",
       "      border-radius: 50%;\n",
       "      cursor: pointer;\n",
       "      display: none;\n",
       "      fill: #1967D2;\n",
       "      height: 32px;\n",
       "      padding: 0 0 0 0;\n",
       "      width: 32px;\n",
       "    }\n",
       "\n",
       "    .colab-df-convert:hover {\n",
       "      background-color: #E2EBFA;\n",
       "      box-shadow: 0px 1px 2px rgba(60, 64, 67, 0.3), 0px 1px 3px 1px rgba(60, 64, 67, 0.15);\n",
       "      fill: #174EA6;\n",
       "    }\n",
       "\n",
       "    [theme=dark] .colab-df-convert {\n",
       "      background-color: #3B4455;\n",
       "      fill: #D2E3FC;\n",
       "    }\n",
       "\n",
       "    [theme=dark] .colab-df-convert:hover {\n",
       "      background-color: #434B5C;\n",
       "      box-shadow: 0px 1px 3px 1px rgba(0, 0, 0, 0.15);\n",
       "      filter: drop-shadow(0px 1px 2px rgba(0, 0, 0, 0.3));\n",
       "      fill: #FFFFFF;\n",
       "    }\n",
       "  </style>\n",
       "\n",
       "      <script>\n",
       "        const buttonEl =\n",
       "          document.querySelector('#df-d72b01af-3552-42df-9bbc-c7bfa4b6c29d button.colab-df-convert');\n",
       "        buttonEl.style.display =\n",
       "          google.colab.kernel.accessAllowed ? 'block' : 'none';\n",
       "\n",
       "        async function convertToInteractive(key) {\n",
       "          const element = document.querySelector('#df-d72b01af-3552-42df-9bbc-c7bfa4b6c29d');\n",
       "          const dataTable =\n",
       "            await google.colab.kernel.invokeFunction('convertToInteractive',\n",
       "                                                     [key], {});\n",
       "          if (!dataTable) return;\n",
       "\n",
       "          const docLinkHtml = 'Like what you see? Visit the ' +\n",
       "            '<a target=\"_blank\" href=https://colab.research.google.com/notebooks/data_table.ipynb>data table notebook</a>'\n",
       "            + ' to learn more about interactive tables.';\n",
       "          element.innerHTML = '';\n",
       "          dataTable['output_type'] = 'display_data';\n",
       "          await google.colab.output.renderOutput(dataTable, element);\n",
       "          const docLink = document.createElement('div');\n",
       "          docLink.innerHTML = docLinkHtml;\n",
       "          element.appendChild(docLink);\n",
       "        }\n",
       "      </script>\n",
       "    </div>\n",
       "  </div>\n",
       "  "
      ],
      "text/plain": [
       "  Patient_id  ... Health\n",
       "0     P00001  ...      2\n",
       "1     P00002  ...      1\n",
       "2     P00003  ...      1\n",
       "3     P00004  ...      1\n",
       "4     P00005  ...      2\n",
       "\n",
       "[5 rows x 4 columns]"
      ]
     },
     "execution_count": 114,
     "metadata": {},
     "output_type": "execute_result"
    }
   ],
   "source": [
    "patient_details['Health'] = pd.DataFrame(health)\n",
    "patient_details.head()"
   ]
  },
  {
   "cell_type": "markdown",
   "metadata": {
    "id": "aqT6k9TVVMlY"
   },
   "source": [
    "Encoding"
   ]
  },
  {
   "cell_type": "code",
   "execution_count": 115,
   "metadata": {
    "id": "5JqRbbN5Pa15"
   },
   "outputs": [],
   "source": [
    "#1) Visits --> I will replace it with number of times the patient paid visit to the hosipital\n",
    "\n",
    "dict_visits = {}\n",
    "for i in range(len(patient_details)):\n",
    "    dict_visits[patient_details.Visits.iloc[i]] = len(patient_details.Visits.iloc[i].split(\",\"))\n",
    "\n",
    "patient_details['Visits'].replace(dict_visits, inplace =True)"
   ]
  },
  {
   "cell_type": "code",
   "execution_count": 116,
   "metadata": {
    "id": "yT_7wRVvVlKH"
   },
   "outputs": [],
   "source": [
    "#2) Drugs column --> Frequency Encoding\n",
    "\n",
    "fq = patient_details.groupby('Drugs').size()/len(patient_details)\n",
    "\n",
    "patient_details.loc[:,\"{}_freq\".format(\"Drugs\")] = patient_details[\"Drugs\"].map(fq)\n",
    "\n",
    "patient_details.drop(\"Drugs\",axis =1, inplace =True)"
   ]
  },
  {
   "cell_type": "code",
   "execution_count": 117,
   "metadata": {
    "id": "h3fVllywVlSs"
   },
   "outputs": [],
   "source": [
    "# Rearrange the columns\n",
    "\n",
    "cols = ['Patient_id', 'Visits', 'Drugs_freq','Health']\n",
    "patient_details = patient_details[cols]"
   ]
  },
  {
   "cell_type": "code",
   "execution_count": 118,
   "metadata": {
    "colab": {
     "base_uri": "https://localhost:8080/",
     "height": 206
    },
    "id": "R9jtNoidVlV9",
    "outputId": "d3e3c5b9-9817-49f8-cc47-62ec15cf0b2a"
   },
   "outputs": [
    {
     "data": {
      "text/html": [
       "\n",
       "  <div id=\"df-4da685dc-ce4a-4f33-b17f-413add014a42\">\n",
       "    <div class=\"colab-df-container\">\n",
       "      <div>\n",
       "<style scoped>\n",
       "    .dataframe tbody tr th:only-of-type {\n",
       "        vertical-align: middle;\n",
       "    }\n",
       "\n",
       "    .dataframe tbody tr th {\n",
       "        vertical-align: top;\n",
       "    }\n",
       "\n",
       "    .dataframe thead th {\n",
       "        text-align: right;\n",
       "    }\n",
       "</style>\n",
       "<table border=\"1\" class=\"dataframe\">\n",
       "  <thead>\n",
       "    <tr style=\"text-align: right;\">\n",
       "      <th></th>\n",
       "      <th>Patient_id</th>\n",
       "      <th>Visits</th>\n",
       "      <th>Drugs_freq</th>\n",
       "      <th>Health</th>\n",
       "    </tr>\n",
       "  </thead>\n",
       "  <tbody>\n",
       "    <tr>\n",
       "      <th>0</th>\n",
       "      <td>P00001</td>\n",
       "      <td>1</td>\n",
       "      <td>0.008710</td>\n",
       "      <td>2</td>\n",
       "    </tr>\n",
       "    <tr>\n",
       "      <th>1</th>\n",
       "      <td>P00002</td>\n",
       "      <td>4</td>\n",
       "      <td>0.000012</td>\n",
       "      <td>1</td>\n",
       "    </tr>\n",
       "    <tr>\n",
       "      <th>2</th>\n",
       "      <td>P00003</td>\n",
       "      <td>1</td>\n",
       "      <td>0.003319</td>\n",
       "      <td>1</td>\n",
       "    </tr>\n",
       "    <tr>\n",
       "      <th>3</th>\n",
       "      <td>P00004</td>\n",
       "      <td>2</td>\n",
       "      <td>0.001672</td>\n",
       "      <td>1</td>\n",
       "    </tr>\n",
       "    <tr>\n",
       "      <th>4</th>\n",
       "      <td>P00005</td>\n",
       "      <td>3</td>\n",
       "      <td>0.000024</td>\n",
       "      <td>2</td>\n",
       "    </tr>\n",
       "  </tbody>\n",
       "</table>\n",
       "</div>\n",
       "      <button class=\"colab-df-convert\" onclick=\"convertToInteractive('df-4da685dc-ce4a-4f33-b17f-413add014a42')\"\n",
       "              title=\"Convert this dataframe to an interactive table.\"\n",
       "              style=\"display:none;\">\n",
       "        \n",
       "  <svg xmlns=\"http://www.w3.org/2000/svg\" height=\"24px\"viewBox=\"0 0 24 24\"\n",
       "       width=\"24px\">\n",
       "    <path d=\"M0 0h24v24H0V0z\" fill=\"none\"/>\n",
       "    <path d=\"M18.56 5.44l.94 2.06.94-2.06 2.06-.94-2.06-.94-.94-2.06-.94 2.06-2.06.94zm-11 1L8.5 8.5l.94-2.06 2.06-.94-2.06-.94L8.5 2.5l-.94 2.06-2.06.94zm10 10l.94 2.06.94-2.06 2.06-.94-2.06-.94-.94-2.06-.94 2.06-2.06.94z\"/><path d=\"M17.41 7.96l-1.37-1.37c-.4-.4-.92-.59-1.43-.59-.52 0-1.04.2-1.43.59L10.3 9.45l-7.72 7.72c-.78.78-.78 2.05 0 2.83L4 21.41c.39.39.9.59 1.41.59.51 0 1.02-.2 1.41-.59l7.78-7.78 2.81-2.81c.8-.78.8-2.07 0-2.86zM5.41 20L4 18.59l7.72-7.72 1.47 1.35L5.41 20z\"/>\n",
       "  </svg>\n",
       "      </button>\n",
       "      \n",
       "  <style>\n",
       "    .colab-df-container {\n",
       "      display:flex;\n",
       "      flex-wrap:wrap;\n",
       "      gap: 12px;\n",
       "    }\n",
       "\n",
       "    .colab-df-convert {\n",
       "      background-color: #E8F0FE;\n",
       "      border: none;\n",
       "      border-radius: 50%;\n",
       "      cursor: pointer;\n",
       "      display: none;\n",
       "      fill: #1967D2;\n",
       "      height: 32px;\n",
       "      padding: 0 0 0 0;\n",
       "      width: 32px;\n",
       "    }\n",
       "\n",
       "    .colab-df-convert:hover {\n",
       "      background-color: #E2EBFA;\n",
       "      box-shadow: 0px 1px 2px rgba(60, 64, 67, 0.3), 0px 1px 3px 1px rgba(60, 64, 67, 0.15);\n",
       "      fill: #174EA6;\n",
       "    }\n",
       "\n",
       "    [theme=dark] .colab-df-convert {\n",
       "      background-color: #3B4455;\n",
       "      fill: #D2E3FC;\n",
       "    }\n",
       "\n",
       "    [theme=dark] .colab-df-convert:hover {\n",
       "      background-color: #434B5C;\n",
       "      box-shadow: 0px 1px 3px 1px rgba(0, 0, 0, 0.15);\n",
       "      filter: drop-shadow(0px 1px 2px rgba(0, 0, 0, 0.3));\n",
       "      fill: #FFFFFF;\n",
       "    }\n",
       "  </style>\n",
       "\n",
       "      <script>\n",
       "        const buttonEl =\n",
       "          document.querySelector('#df-4da685dc-ce4a-4f33-b17f-413add014a42 button.colab-df-convert');\n",
       "        buttonEl.style.display =\n",
       "          google.colab.kernel.accessAllowed ? 'block' : 'none';\n",
       "\n",
       "        async function convertToInteractive(key) {\n",
       "          const element = document.querySelector('#df-4da685dc-ce4a-4f33-b17f-413add014a42');\n",
       "          const dataTable =\n",
       "            await google.colab.kernel.invokeFunction('convertToInteractive',\n",
       "                                                     [key], {});\n",
       "          if (!dataTable) return;\n",
       "\n",
       "          const docLinkHtml = 'Like what you see? Visit the ' +\n",
       "            '<a target=\"_blank\" href=https://colab.research.google.com/notebooks/data_table.ipynb>data table notebook</a>'\n",
       "            + ' to learn more about interactive tables.';\n",
       "          element.innerHTML = '';\n",
       "          dataTable['output_type'] = 'display_data';\n",
       "          await google.colab.output.renderOutput(dataTable, element);\n",
       "          const docLink = document.createElement('div');\n",
       "          docLink.innerHTML = docLinkHtml;\n",
       "          element.appendChild(docLink);\n",
       "        }\n",
       "      </script>\n",
       "    </div>\n",
       "  </div>\n",
       "  "
      ],
      "text/plain": [
       "  Patient_id  Visits  Drugs_freq  Health\n",
       "0     P00001       1    0.008710       2\n",
       "1     P00002       4    0.000012       1\n",
       "2     P00003       1    0.003319       1\n",
       "3     P00004       2    0.001672       1\n",
       "4     P00005       3    0.000024       2"
      ]
     },
     "execution_count": 118,
     "metadata": {},
     "output_type": "execute_result"
    }
   ],
   "source": [
    "patient_details.head()"
   ]
  },
  {
   "cell_type": "code",
   "execution_count": 119,
   "metadata": {
    "id": "py7RwgNYVldy"
   },
   "outputs": [],
   "source": [
    "# As every patient has unique id and it does not influence Health of an individual\n",
    "# Drop this column. Before dropping it, lets make a copy.\n",
    "\n",
    "health_status =patient_details.copy()\n",
    "\n",
    "health_status.drop(\"Patient_id\", axis =1, inplace =True)"
   ]
  },
  {
   "cell_type": "code",
   "execution_count": 120,
   "metadata": {
    "colab": {
     "base_uri": "https://localhost:8080/",
     "height": 206
    },
    "id": "vCszuYBjWIlI",
    "outputId": "b74ff9bc-7d00-4918-89ac-15cdee2e291b"
   },
   "outputs": [
    {
     "data": {
      "text/html": [
       "\n",
       "  <div id=\"df-aa27acd9-f721-4068-9c70-044aaa3b79d0\">\n",
       "    <div class=\"colab-df-container\">\n",
       "      <div>\n",
       "<style scoped>\n",
       "    .dataframe tbody tr th:only-of-type {\n",
       "        vertical-align: middle;\n",
       "    }\n",
       "\n",
       "    .dataframe tbody tr th {\n",
       "        vertical-align: top;\n",
       "    }\n",
       "\n",
       "    .dataframe thead th {\n",
       "        text-align: right;\n",
       "    }\n",
       "</style>\n",
       "<table border=\"1\" class=\"dataframe\">\n",
       "  <thead>\n",
       "    <tr style=\"text-align: right;\">\n",
       "      <th></th>\n",
       "      <th>Visits</th>\n",
       "      <th>Drugs_freq</th>\n",
       "      <th>Health</th>\n",
       "    </tr>\n",
       "  </thead>\n",
       "  <tbody>\n",
       "    <tr>\n",
       "      <th>0</th>\n",
       "      <td>1</td>\n",
       "      <td>0.008710</td>\n",
       "      <td>2</td>\n",
       "    </tr>\n",
       "    <tr>\n",
       "      <th>1</th>\n",
       "      <td>4</td>\n",
       "      <td>0.000012</td>\n",
       "      <td>1</td>\n",
       "    </tr>\n",
       "    <tr>\n",
       "      <th>2</th>\n",
       "      <td>1</td>\n",
       "      <td>0.003319</td>\n",
       "      <td>1</td>\n",
       "    </tr>\n",
       "    <tr>\n",
       "      <th>3</th>\n",
       "      <td>2</td>\n",
       "      <td>0.001672</td>\n",
       "      <td>1</td>\n",
       "    </tr>\n",
       "    <tr>\n",
       "      <th>4</th>\n",
       "      <td>3</td>\n",
       "      <td>0.000024</td>\n",
       "      <td>2</td>\n",
       "    </tr>\n",
       "  </tbody>\n",
       "</table>\n",
       "</div>\n",
       "      <button class=\"colab-df-convert\" onclick=\"convertToInteractive('df-aa27acd9-f721-4068-9c70-044aaa3b79d0')\"\n",
       "              title=\"Convert this dataframe to an interactive table.\"\n",
       "              style=\"display:none;\">\n",
       "        \n",
       "  <svg xmlns=\"http://www.w3.org/2000/svg\" height=\"24px\"viewBox=\"0 0 24 24\"\n",
       "       width=\"24px\">\n",
       "    <path d=\"M0 0h24v24H0V0z\" fill=\"none\"/>\n",
       "    <path d=\"M18.56 5.44l.94 2.06.94-2.06 2.06-.94-2.06-.94-.94-2.06-.94 2.06-2.06.94zm-11 1L8.5 8.5l.94-2.06 2.06-.94-2.06-.94L8.5 2.5l-.94 2.06-2.06.94zm10 10l.94 2.06.94-2.06 2.06-.94-2.06-.94-.94-2.06-.94 2.06-2.06.94z\"/><path d=\"M17.41 7.96l-1.37-1.37c-.4-.4-.92-.59-1.43-.59-.52 0-1.04.2-1.43.59L10.3 9.45l-7.72 7.72c-.78.78-.78 2.05 0 2.83L4 21.41c.39.39.9.59 1.41.59.51 0 1.02-.2 1.41-.59l7.78-7.78 2.81-2.81c.8-.78.8-2.07 0-2.86zM5.41 20L4 18.59l7.72-7.72 1.47 1.35L5.41 20z\"/>\n",
       "  </svg>\n",
       "      </button>\n",
       "      \n",
       "  <style>\n",
       "    .colab-df-container {\n",
       "      display:flex;\n",
       "      flex-wrap:wrap;\n",
       "      gap: 12px;\n",
       "    }\n",
       "\n",
       "    .colab-df-convert {\n",
       "      background-color: #E8F0FE;\n",
       "      border: none;\n",
       "      border-radius: 50%;\n",
       "      cursor: pointer;\n",
       "      display: none;\n",
       "      fill: #1967D2;\n",
       "      height: 32px;\n",
       "      padding: 0 0 0 0;\n",
       "      width: 32px;\n",
       "    }\n",
       "\n",
       "    .colab-df-convert:hover {\n",
       "      background-color: #E2EBFA;\n",
       "      box-shadow: 0px 1px 2px rgba(60, 64, 67, 0.3), 0px 1px 3px 1px rgba(60, 64, 67, 0.15);\n",
       "      fill: #174EA6;\n",
       "    }\n",
       "\n",
       "    [theme=dark] .colab-df-convert {\n",
       "      background-color: #3B4455;\n",
       "      fill: #D2E3FC;\n",
       "    }\n",
       "\n",
       "    [theme=dark] .colab-df-convert:hover {\n",
       "      background-color: #434B5C;\n",
       "      box-shadow: 0px 1px 3px 1px rgba(0, 0, 0, 0.15);\n",
       "      filter: drop-shadow(0px 1px 2px rgba(0, 0, 0, 0.3));\n",
       "      fill: #FFFFFF;\n",
       "    }\n",
       "  </style>\n",
       "\n",
       "      <script>\n",
       "        const buttonEl =\n",
       "          document.querySelector('#df-aa27acd9-f721-4068-9c70-044aaa3b79d0 button.colab-df-convert');\n",
       "        buttonEl.style.display =\n",
       "          google.colab.kernel.accessAllowed ? 'block' : 'none';\n",
       "\n",
       "        async function convertToInteractive(key) {\n",
       "          const element = document.querySelector('#df-aa27acd9-f721-4068-9c70-044aaa3b79d0');\n",
       "          const dataTable =\n",
       "            await google.colab.kernel.invokeFunction('convertToInteractive',\n",
       "                                                     [key], {});\n",
       "          if (!dataTable) return;\n",
       "\n",
       "          const docLinkHtml = 'Like what you see? Visit the ' +\n",
       "            '<a target=\"_blank\" href=https://colab.research.google.com/notebooks/data_table.ipynb>data table notebook</a>'\n",
       "            + ' to learn more about interactive tables.';\n",
       "          element.innerHTML = '';\n",
       "          dataTable['output_type'] = 'display_data';\n",
       "          await google.colab.output.renderOutput(dataTable, element);\n",
       "          const docLink = document.createElement('div');\n",
       "          docLink.innerHTML = docLinkHtml;\n",
       "          element.appendChild(docLink);\n",
       "        }\n",
       "      </script>\n",
       "    </div>\n",
       "  </div>\n",
       "  "
      ],
      "text/plain": [
       "   Visits  Drugs_freq  Health\n",
       "0       1    0.008710       2\n",
       "1       4    0.000012       1\n",
       "2       1    0.003319       1\n",
       "3       2    0.001672       1\n",
       "4       3    0.000024       2"
      ]
     },
     "execution_count": 120,
     "metadata": {},
     "output_type": "execute_result"
    }
   ],
   "source": [
    "health_status.head()"
   ]
  },
  {
   "cell_type": "code",
   "execution_count": 121,
   "metadata": {
    "colab": {
     "base_uri": "https://localhost:8080/",
     "height": 555
    },
    "id": "_vJvXjh9WJyw",
    "outputId": "d3efee58-147b-4dfc-b26c-ec8cb68113b0"
   },
   "outputs": [
    {
     "data": {
      "text/plain": [
       "<matplotlib.axes._subplots.AxesSubplot at 0x7f6b0b2d11d0>"
      ]
     },
     "execution_count": 121,
     "metadata": {},
     "output_type": "execute_result"
    },
    {
     "data": {
      "image/png": "[encoded data removed]",
      "text/plain": [
       "<Figure size 720x648 with 2 Axes>"
      ]
     },
     "metadata": {},
     "output_type": "display_data"
    }
   ],
   "source": [
    "# Lets check the correlation \n",
    "\n",
    "health_corr = health_status.corr()\n",
    "plt.figure(figsize = (10,9))\n",
    "sns.heatmap(health_corr, annot = True)"
   ]
  },
  {
   "cell_type": "markdown",
   "metadata": {
    "id": "TcoWBdGkWQzp"
   },
   "source": [
    "Model"
   ]
  },
  {
   "cell_type": "code",
   "execution_count": 122,
   "metadata": {
    "id": "pZyPXivXWODR"
   },
   "outputs": [],
   "source": [
    "from sklearn.model_selection import train_test_split\n",
    "from sklearn.preprocessing import StandardScaler\n",
    "from sklearn.ensemble import RandomForestClassifier\n",
    "from sklearn.metrics import roc_auc_score,classification_report,confusion_matrix\n",
    "import xgboost"
   ]
  },
  {
   "cell_type": "code",
   "execution_count": 123,
   "metadata": {
    "colab": {
     "base_uri": "https://localhost:8080/"
    },
    "id": "wDadnS7EEYIg",
    "outputId": "7e1d2946-bfe0-4db1-f53f-713643724af0"
   },
   "outputs": [
    {
     "data": {
      "text/plain": [
       "1    52043\n",
       "2    18855\n",
       "0    11648\n",
       "Name: Health, dtype: int64"
      ]
     },
     "execution_count": 123,
     "metadata": {},
     "output_type": "execute_result"
    }
   ],
   "source": [
    "# Lets see the value counts of 0,1,2\n",
    "\n",
    "patient_details.Health.value_counts()"
   ]
  },
  {
   "cell_type": "code",
   "execution_count": 124,
   "metadata": {
    "id": "u_10NCHsEYsQ"
   },
   "outputs": [],
   "source": [
    "# As the data is biased, therefore, now it becomes imbalance dataset problem\n",
    "# Input-Output Data\n",
    "X = health_status.drop(\"Health\", axis =1)\n",
    "y = health_status[\"Health\"]\n",
    "\n",
    "from imblearn.over_sampling import SMOTE\n",
    "smote = SMOTE()\n",
    "X_sm,y_sm = smote.fit_resample(X,y)\n"
   ]
  },
  {
   "cell_type": "code",
   "execution_count": 125,
   "metadata": {
    "colab": {
     "base_uri": "https://localhost:8080/"
    },
    "id": "jWmDhLC3WOF-",
    "outputId": "dd75e80d-74d2-4dac-e732-3f01d79baa85"
   },
   "outputs": [
    {
     "name": "stdout",
     "output_type": "stream",
     "text": [
      "(156129, 2) (156129,)\n"
     ]
    },
    {
     "data": {
      "text/plain": [
       "2    52043\n",
       "1    52043\n",
       "0    52043\n",
       "Name: Health, dtype: int64"
      ]
     },
     "execution_count": 125,
     "metadata": {},
     "output_type": "execute_result"
    }
   ],
   "source": [
    "print(X_sm.shape, y_sm.shape)\n",
    "y_sm.value_counts()"
   ]
  },
  {
   "cell_type": "code",
   "execution_count": 126,
   "metadata": {
    "id": "PncfxZaJWesQ"
   },
   "outputs": [],
   "source": [
    "# Split the data\n",
    "X_train,X_test, y_train, y_test = train_test_split(X_sm,y_sm, test_size = 0.24, random_state = 42)"
   ]
  },
  {
   "cell_type": "code",
   "execution_count": 127,
   "metadata": {
    "id": "0fduCBvBWOIS"
   },
   "outputs": [],
   "source": [
    "# Feature Scaling\n",
    "scale = StandardScaler()\n",
    "X_train_scaled = scale.fit_transform(X_train)\n",
    "X_test_scaled = scale.fit_transform(X_test)"
   ]
  },
  {
   "cell_type": "markdown",
   "metadata": {
    "id": "WSEP5IkeQ-SQ"
   },
   "source": [
    "Evaluation Parameter :-                 \n",
    "\n",
    "I have decided to take only confusion matrix as my evaluation paramtere. \n",
    "\n",
    "What specifically I will see in the matrix is that \n",
    "\n",
    "> non-cured (Actual) ---> cured (model prediction)\n",
    "\n",
    "I have choosen this because according to the output column I have generated it has 3 values i.e.\n",
    "\n",
    "*   1 --> Cured\n",
    "*   2 --> Non-Cured\n",
    "*   0 --> Neutral (i.e. No idea)\n",
    "\n",
    "for \"0\" I put few suggestions i.e.\n",
    "1.   additional diagonsis\n",
    "2.   check the drug category\n",
    "\n",
    "Further I will explain in my Report\n",
    "\n",
    "\n",
    "\n",
    "\n",
    "\n",
    "\n",
    "\n",
    "\n",
    "\n",
    "\n"
   ]
  },
  {
   "cell_type": "markdown",
   "metadata": {
    "id": "80oNTNs_Wqk5"
   },
   "source": [
    "Random Forest"
   ]
  },
  {
   "cell_type": "code",
   "execution_count": 128,
   "metadata": {
    "colab": {
     "base_uri": "https://localhost:8080/"
    },
    "id": "UG-O7jrnWOL3",
    "outputId": "aedd0860-4d0c-4432-ef97-1cf82ab59296"
   },
   "outputs": [
    {
     "data": {
      "text/plain": [
       "RandomForestClassifier(n_estimators=500, random_state=22)"
      ]
     },
     "execution_count": 128,
     "metadata": {},
     "output_type": "execute_result"
    }
   ],
   "source": [
    "clf = RandomForestClassifier(n_estimators = 500, criterion = 'gini', random_state =22)\n",
    "clf.fit(X_train_scaled, y_train)"
   ]
  },
  {
   "cell_type": "code",
   "execution_count": 129,
   "metadata": {
    "id": "NA3v5gO6WwlQ"
   },
   "outputs": [],
   "source": [
    "y_pred = clf.predict(X_test_scaled)"
   ]
  },
  {
   "cell_type": "code",
   "execution_count": 130,
   "metadata": {
    "colab": {
     "base_uri": "https://localhost:8080/",
     "height": 456
    },
    "id": "SNjvDhYcWwox",
    "outputId": "a65e99c1-ab1f-45cc-e7d8-4611edcea8cb"
   },
   "outputs": [
    {
     "data": {
      "text/plain": [
       "Text(72.5, 0.5, 'Truth')"
      ]
     },
     "execution_count": 130,
     "metadata": {},
     "output_type": "execute_result"
    },
    {
     "data": {
      "image/png": "[encoded data removed]",
      "text/plain": [
       "<Figure size 720x504 with 2 Axes>"
      ]
     },
     "metadata": {},
     "output_type": "display_data"
    }
   ],
   "source": [
    "cm = confusion_matrix(y_test,y_pred)\n",
    "plt.figure(figsize = (10,7))\n",
    "sns.heatmap(cm, annot =True, fmt ='d')\n",
    "plt.xlabel('Predtiction')\n",
    "plt.ylabel('Truth')"
   ]
  },
  {
   "cell_type": "code",
   "execution_count": 131,
   "metadata": {
    "colab": {
     "base_uri": "https://localhost:8080/"
    },
    "id": "CfSOwjkf82xY",
    "outputId": "c07b69f5-e50f-49b7-e568-5a8e1a099718"
   },
   "outputs": [
    {
     "data": {
      "text/plain": [
       "RandomForestClassifier(criterion='entropy', n_estimators=1000, random_state=30)"
      ]
     },
     "execution_count": 131,
     "metadata": {},
     "output_type": "execute_result"
    }
   ],
   "source": [
    "clf_1 = RandomForestClassifier(n_estimators = 1000,criterion = 'entropy', random_state =30)\n",
    "clf_1.fit(X_train_scaled, y_train)"
   ]
  },
  {
   "cell_type": "code",
   "execution_count": 132,
   "metadata": {
    "colab": {
     "base_uri": "https://localhost:8080/",
     "height": 456
    },
    "id": "dF1p8PutGUKB",
    "outputId": "c66396cc-d26a-4d82-8865-09c625e19569"
   },
   "outputs": [
    {
     "data": {
      "text/plain": [
       "Text(72.5, 0.5, 'Truth')"
      ]
     },
     "execution_count": 132,
     "metadata": {},
     "output_type": "execute_result"
    },
    {
     "data": {
      "image/png": "[encoded data removed]",
      "text/plain": [
       "<Figure size 720x504 with 2 Axes>"
      ]
     },
     "metadata": {},
     "output_type": "display_data"
    }
   ],
   "source": [
    "y_pred1 = clf_1.predict(X_test_scaled)\n",
    "cm = confusion_matrix(y_test,y_pred1)\n",
    "plt.figure(figsize = (10,7))\n",
    "sns.heatmap(cm, annot =True, fmt ='d')\n",
    "plt.xlabel('Predtiction')\n",
    "plt.ylabel('Truth')"
   ]
  },
  {
   "cell_type": "code",
   "execution_count": 133,
   "metadata": {
    "colab": {
     "base_uri": "https://localhost:8080/"
    },
    "id": "mrGWMwBEUroV",
    "outputId": "6d4e16e4-b2f8-497e-a60a-13e9e6e6ad02"
   },
   "outputs": [
    {
     "data": {
      "text/plain": [
       "RandomForestClassifier(criterion='entropy', n_estimators=200, random_state=50)"
      ]
     },
     "execution_count": 133,
     "metadata": {},
     "output_type": "execute_result"
    }
   ],
   "source": [
    "# further increase in n_estimators does not have any influence on our evaluate metrics\n",
    "# it is still 574 or 573 and we can add 3303 + 7061 becasue if the  patient output comes zero\n",
    "# either that patient will again go through diagnosis or we will identify his/her diseases by his/her\n",
    "# drug category. So that person health status always be clear.\n",
    "\n",
    "clf_2 = RandomForestClassifier(n_estimators = 200,criterion = 'entropy', random_state =50)\n",
    "clf_2.fit(X_train_scaled, y_train)"
   ]
  },
  {
   "cell_type": "code",
   "execution_count": 134,
   "metadata": {
    "colab": {
     "base_uri": "https://localhost:8080/",
     "height": 456
    },
    "id": "wNa4Wf89U1NN",
    "outputId": "079b1ba1-059e-4811-9c10-5656f339d234"
   },
   "outputs": [
    {
     "data": {
      "text/plain": [
       "Text(72.5, 0.5, 'Truth')"
      ]
     },
     "execution_count": 134,
     "metadata": {},
     "output_type": "execute_result"
    },
    {
     "data": {
      "image/png": "[encoded data removed]",
      "text/plain": [
       "<Figure size 720x504 with 2 Axes>"
      ]
     },
     "metadata": {},
     "output_type": "display_data"
    }
   ],
   "source": [
    "y_pred2 = clf_2.predict(X_test_scaled)\n",
    "cm = confusion_matrix(y_test,y_pred2)\n",
    "plt.figure(figsize = (10,7))\n",
    "sns.heatmap(cm, annot =True, fmt ='d')\n",
    "plt.xlabel('Predtiction')\n",
    "plt.ylabel('Truth')"
   ]
  },
  {
   "cell_type": "markdown",
   "metadata": {
    "id": "FiNC-g91c7ph"
   },
   "source": [
    "Boosting"
   ]
  },
  {
   "cell_type": "code",
   "execution_count": 135,
   "metadata": {
    "colab": {
     "base_uri": "https://localhost:8080/"
    },
    "id": "Ml4mt_s7Y2Uu",
    "outputId": "68836a71-2678-42e5-e22a-7c482d782300"
   },
   "outputs": [
    {
     "data": {
      "text/plain": [
       "XGBClassifier(colsample_bytree=0.8, learning_rate=0.02, max_depth=6,\n",
       "              n_estimators=250, objective='multi:softprob', random_state=17,\n",
       "              subsample=0.8)"
      ]
     },
     "execution_count": 135,
     "metadata": {},
     "output_type": "execute_result"
    }
   ],
   "source": [
    "import xgboost as xgb \n",
    "clf_xgb = xgb.XGBClassifier(n_estimators = 250, max_depth = 6, learning_rate = 0.02, colsample_bytree=0.8, subsample = 0.8, random_state =17)\n",
    "clf_xgb.fit(X_train_scaled,y_train)"
   ]
  },
  {
   "cell_type": "code",
   "execution_count": 136,
   "metadata": {
    "colab": {
     "base_uri": "https://localhost:8080/",
     "height": 456
    },
    "id": "HNj5ktpQbfgG",
    "outputId": "d7098d23-3678-4dc6-8e0e-2dc4a573ac23"
   },
   "outputs": [
    {
     "data": {
      "text/plain": [
       "Text(72.5, 0.5, 'Truth')"
      ]
     },
     "execution_count": 136,
     "metadata": {},
     "output_type": "execute_result"
    },
    {
     "data": {
      "image/png": "[encoded data removed]",
      "text/plain": [
       "<Figure size 720x504 with 2 Axes>"
      ]
     },
     "metadata": {},
     "output_type": "display_data"
    }
   ],
   "source": [
    "y_pred_xgb = clf_xgb.predict(X_test_scaled)\n",
    "cm = confusion_matrix(y_test,y_pred_xgb)\n",
    "plt.figure(figsize = (10,7))\n",
    "sns.heatmap(cm, annot =True, fmt ='d')\n",
    "plt.xlabel('Predtiction')\n",
    "plt.ylabel('Truth')"
   ]
  },
  {
   "cell_type": "code",
   "execution_count": 139,
   "metadata": {
    "colab": {
     "base_uri": "https://localhost:8080/"
    },
    "id": "rhsglq4zVDsO",
    "outputId": "9842f09e-2bd2-49a4-913d-f236080ec5bc"
   },
   "outputs": [
    {
     "data": {
      "text/plain": [
       "XGBClassifier(n_estimators=1000, objective='multi:softprob', random_state=24)"
      ]
     },
     "execution_count": 139,
     "metadata": {},
     "output_type": "execute_result"
    }
   ],
   "source": [
    "clf_xgb_1 = xgb.XGBClassifier(n_estimators = 1000,random_state = 24)\n",
    "clf_xgb_1.fit(X_train_scaled,y_train)"
   ]
  },
  {
   "cell_type": "code",
   "execution_count": 140,
   "metadata": {
    "colab": {
     "base_uri": "https://localhost:8080/",
     "height": 456
    },
    "id": "EEb4VCHtVMVd",
    "outputId": "286dbb93-0600-4496-f145-d984b793b260"
   },
   "outputs": [
    {
     "data": {
      "text/plain": [
       "Text(0.5, 45.5, 'Predtiction')"
      ]
     },
     "execution_count": 140,
     "metadata": {},
     "output_type": "execute_result"
    },
    {
     "data": {
      "image/png": "[encoded data removed]",
      "text/plain": [
       "<Figure size 720x504 with 2 Axes>"
      ]
     },
     "metadata": {},
     "output_type": "display_data"
    }
   ],
   "source": [
    "y_pred_xgb_1 = clf_xgb_1.predict(X_test_scaled)\n",
    "cm = confusion_matrix(y_test,y_pred_xgb_1)\n",
    "plt.figure(figsize = (10,7))\n",
    "sns.heatmap(cm, annot =True, fmt ='d')\n",
    "plt.xlabel('Predtiction')"
   ]
  },
  {
   "cell_type": "markdown",
   "metadata": {
    "id": "GeaBlcM2evx-"
   },
   "source": [
    "The model that I would go with is clf_xgb i.e.\n",
    "\n",
    "* clf_xgb_1 = xgb.XGBClassifier(n_estimators = 1000, rando_state =24)\n",
    "\n",
    "After playing  with parameters I came up with this model. And this model non-cured to cured is 3270 which is less than RandomForest model alongside its non-cured to non-cured and non-cured to neutral is comparable to Random Forest."
   ]
  }
 ],
 "metadata": {
  "colab": {
   "name": "pfizer_2_solved.ipynb",
   "provenance": []
  },
  "kernelspec": {
   "display_name": "Python 3",
   "language": "python",
   "name": "python3"
  },
  "language_info": {
   "codemirror_mode": {
    "name": "ipython",
    "version": 3
   },
   "file_extension": ".py",
   "mimetype": "text/x-python",
   "name": "python",
   "nbconvert_exporter": "python",
   "pygments_lexer": "ipython3",
   "version": "3.8.8"
  }
 },
 "nbformat": 4,
 "nbformat_minor": 1
}
